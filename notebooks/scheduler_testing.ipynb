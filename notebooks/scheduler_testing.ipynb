{
 "cells": [
  {
   "cell_type": "code",
   "execution_count": 1,
   "metadata": {},
   "outputs": [],
   "source": [
    "from functools import total_ordering\n",
    "from itertools import count\n",
    "from typing import List"
   ]
  },
  {
   "cell_type": "code",
   "execution_count": 2,
   "metadata": {},
   "outputs": [],
   "source": [
    "@total_ordering\n",
    "class Task:\n",
    "    _ids = count(0) #shared id variable, unique for each task\n",
    "    \n",
    "    def __init__(self, release: int, duration: int, deadline: int):\n",
    "        self._id = next(self._ids)\n",
    "        self.release = release\n",
    "        self.duration = duration\n",
    "        self.deadline = deadline\n",
    "        self.start_min = release\n",
    "        self.start_max = deadline - duration\n",
    "        \n",
    "    def __eq__(self, other):\n",
    "        return self.deadline == other.deadline\n",
    "    \n",
    "    def __ne__(self, other):\n",
    "        return not (self.deadline == other.deadline)\n",
    "    \n",
    "    def __lt__(self, other):\n",
    "        return self.deadline < other.deadline\n",
    "    \n",
    "    def __repr__(self):\n",
    "        return f\"Task ID: {self._id}, release: {self.release}, duration: {self.duration}, deadline: {self.deadline}\"\n",
    "\n",
    "class cEDF:\n",
    "    def __init__(self, task_index: List, time):\n",
    "        self._index = task_index\n",
    "        self._time = time\n",
    "        self._crit_q = self._critical_queue()\n",
    "        self._red_q = self._ready_queue()\n",
    "        \n",
    "    def _critical_queue(self):\n",
    "        crit_q = sorted(self._index, key=lambda x: x.start_max, reverse=False)\n",
    "        return crit_q\n",
    "    \n",
    "    def _ready_queue(self):\n",
    "        temp_q = []\n",
    "        for item in self._index:\n",
    "            if item.release <= self._time:\n",
    "                temp_q.append(item)\n",
    "        red_q = sorted(temp_q, key=lambda x: x.deadline, reverse=False)\n",
    "        return red_q\n",
    "    \n",
    "    def _remove_task_id_queue(self, task_id: int, queue: List):\n",
    "        for i in range(0, len(queue)):\n",
    "            if queue[i]._id == task_id:\n",
    "                del queue[i]\n",
    "                break;\n",
    "    \n",
    "    def _remove_task_id_all(self, task_id: int):\n",
    "        self._remove_task_id_queue(task_id, self._index)\n",
    "        self._remove_task_id_queue(task_id, self._crit_q)\n",
    "        self._remove_task_id_queue(task_id, self._red_q)\n",
    "    \n",
    "    def update_time(self, time: int):\n",
    "        self._time = time\n",
    "        self._red_q = self._ready_queue()\n",
    "        \n",
    "    def schedule(self):\n",
    "        return NotImplementedError()"
   ]
  },
  {
   "cell_type": "code",
   "execution_count": 17,
   "metadata": {},
   "outputs": [],
   "source": [
    "task_index = [Task(0, 5, 20), Task(2, 4, 10), Task(0, 3, 19)]\n",
    "sched = cEDF(task_index, 0)"
   ]
  },
  {
   "cell_type": "code",
   "execution_count": 18,
   "metadata": {},
   "outputs": [
    {
     "data": {
      "text/plain": [
       "[Task ID: 6, release: 0, duration: 5, deadline: 20,\n",
       " Task ID: 7, release: 2, duration: 4, deadline: 10,\n",
       " Task ID: 8, release: 0, duration: 3, deadline: 19]"
      ]
     },
     "execution_count": 18,
     "metadata": {},
     "output_type": "execute_result"
    }
   ],
   "source": [
    "sched._index"
   ]
  },
  {
   "cell_type": "code",
   "execution_count": 19,
   "metadata": {},
   "outputs": [
    {
     "data": {
      "text/plain": [
       "[Task ID: 7, release: 2, duration: 4, deadline: 10,\n",
       " Task ID: 6, release: 0, duration: 5, deadline: 20,\n",
       " Task ID: 8, release: 0, duration: 3, deadline: 19]"
      ]
     },
     "execution_count": 19,
     "metadata": {},
     "output_type": "execute_result"
    }
   ],
   "source": [
    "sched._crit_q"
   ]
  },
  {
   "cell_type": "code",
   "execution_count": 20,
   "metadata": {},
   "outputs": [
    {
     "data": {
      "text/plain": [
       "[Task ID: 8, release: 0, duration: 3, deadline: 19,\n",
       " Task ID: 6, release: 0, duration: 5, deadline: 20]"
      ]
     },
     "execution_count": 20,
     "metadata": {},
     "output_type": "execute_result"
    }
   ],
   "source": [
    "sched._red_q"
   ]
  },
  {
   "cell_type": "code",
   "execution_count": 21,
   "metadata": {},
   "outputs": [],
   "source": [
    "sched._remove_task_id_all(1)"
   ]
  },
  {
   "cell_type": "code",
   "execution_count": null,
   "metadata": {},
   "outputs": [],
   "source": []
  }
 ],
 "metadata": {
  "kernelspec": {
   "display_name": "Python 3",
   "language": "python",
   "name": "python3"
  },
  "language_info": {
   "codemirror_mode": {
    "name": "ipython",
    "version": 3
   },
   "file_extension": ".py",
   "mimetype": "text/x-python",
   "name": "python",
   "nbconvert_exporter": "python",
   "pygments_lexer": "ipython3",
   "version": "3.7.3"
  }
 },
 "nbformat": 4,
 "nbformat_minor": 4
}
