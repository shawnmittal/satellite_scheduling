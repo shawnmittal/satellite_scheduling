{
 "cells": [
  {
   "cell_type": "code",
   "execution_count": 21,
   "metadata": {},
   "outputs": [],
   "source": [
    "from functools import total_ordering\n",
    "from itertools import count"
   ]
  },
  {
   "cell_type": "code",
   "execution_count": 72,
   "metadata": {},
   "outputs": [],
   "source": [
    "@total_ordering\n",
    "class Task:\n",
    "    _ids = count(0)\n",
    "    \n",
    "    def __init__(self, deadline: int, duration: int):\n",
    "        self._id = next(self._ids)\n",
    "        self.deadline = deadline\n",
    "        self.duration = duration\n",
    "        self.start_min = 0\n",
    "        self.start_max = deadline - duration\n",
    "        \n",
    "    def __eq__(self, other):\n",
    "        return self.deadline == other.deadline\n",
    "    \n",
    "    def __ne__(self, other):\n",
    "        return not (self.deadline == other.deadline)\n",
    "    \n",
    "    def __lt__(self, other):\n",
    "        return self.deadline < other.deadline\n",
    "    \n",
    "    def __repr__(self):\n",
    "        return f\"Task ID: {self._id}, deadline: {self.deadline}, duration: {self.duration}, start_min: {self.start_min}, start_max: {self.start_max}\"\n",
    "\n",
    "class cEDF:\n",
    "    def __init__(self, task_index):\n",
    "        self._index = task_index\n",
    "        self._crit_q = self._critical_queue()\n",
    "        self._red_q = self._ready_queue()\n",
    "        \n",
    "    def _critical_queue(self):\n",
    "        crit_q = sorted(self._index, key=lambda x: x.start_max, reverse=False)\n",
    "        return crit_q\n",
    "    \n",
    "    def _ready_queue(self):\n",
    "        red_q = sorted(self._index, key=lambda x: x.deadline, reverse=False)\n",
    "        return red_q\n",
    "        \n",
    "    def schedule(self):\n",
    "        return NotImplementedError()\n",
    "    \n",
    "    def _delete_task(self, task_id):\n",
    "        return NonImplementedError()"
   ]
  },
  {
   "cell_type": "code",
   "execution_count": 73,
   "metadata": {},
   "outputs": [],
   "source": [
    "task1 = Task(10, 5)\n",
    "task2 = Task(11, 4)\n",
    "task3 = Task(20, 19)\n",
    "\n",
    "task_index = [task1, task2, task3]"
   ]
  },
  {
   "cell_type": "code",
   "execution_count": 74,
   "metadata": {},
   "outputs": [],
   "source": [
    "sched = cEDF(task_index)"
   ]
  },
  {
   "cell_type": "code",
   "execution_count": 76,
   "metadata": {},
   "outputs": [
    {
     "data": {
      "text/plain": [
       "[Task ID: 0, deadline: 10, duration: 5, start_min: 0, start_max: 5,\n",
       " Task ID: 1, deadline: 11, duration: 4, start_min: 0, start_max: 7,\n",
       " Task ID: 2, deadline: 20, duration: 19, start_min: 0, start_max: 1]"
      ]
     },
     "execution_count": 76,
     "metadata": {},
     "output_type": "execute_result"
    }
   ],
   "source": [
    "sched._index"
   ]
  },
  {
   "cell_type": "code",
   "execution_count": 77,
   "metadata": {},
   "outputs": [
    {
     "data": {
      "text/plain": [
       "[Task ID: 2, deadline: 20, duration: 19, start_min: 0, start_max: 1,\n",
       " Task ID: 0, deadline: 10, duration: 5, start_min: 0, start_max: 5,\n",
       " Task ID: 1, deadline: 11, duration: 4, start_min: 0, start_max: 7]"
      ]
     },
     "execution_count": 77,
     "metadata": {},
     "output_type": "execute_result"
    }
   ],
   "source": [
    "sched._crit_q"
   ]
  },
  {
   "cell_type": "code",
   "execution_count": 78,
   "metadata": {},
   "outputs": [
    {
     "data": {
      "text/plain": [
       "[Task ID: 0, deadline: 10, duration: 5, start_min: 0, start_max: 5,\n",
       " Task ID: 1, deadline: 11, duration: 4, start_min: 0, start_max: 7,\n",
       " Task ID: 2, deadline: 20, duration: 19, start_min: 0, start_max: 1]"
      ]
     },
     "execution_count": 78,
     "metadata": {},
     "output_type": "execute_result"
    }
   ],
   "source": [
    "sched._red_q"
   ]
  },
  {
   "cell_type": "code",
   "execution_count": null,
   "metadata": {},
   "outputs": [],
   "source": []
  }
 ],
 "metadata": {
  "kernelspec": {
   "display_name": "Python 3",
   "language": "python",
   "name": "python3"
  },
  "language_info": {
   "codemirror_mode": {
    "name": "ipython",
    "version": 3
   },
   "file_extension": ".py",
   "mimetype": "text/x-python",
   "name": "python",
   "nbconvert_exporter": "python",
   "pygments_lexer": "ipython3",
   "version": "3.7.7"
  }
 },
 "nbformat": 4,
 "nbformat_minor": 4
}
