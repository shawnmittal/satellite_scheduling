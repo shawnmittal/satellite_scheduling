{
 "cells": [
  {
   "cell_type": "code",
   "execution_count": 63,
   "metadata": {},
   "outputs": [],
   "source": [
    "from functools import total_ordering\n",
    "from itertools import count\n",
    "from typing import List"
   ]
  },
  {
   "cell_type": "code",
   "execution_count": 64,
   "metadata": {},
   "outputs": [],
   "source": [
    "@total_ordering\n",
    "class Task:\n",
    "    _ids = count(0)\n",
    "    \n",
    "    def __init__(self, release: int, duration: int, deadline: int):\n",
    "        self._id = next(self._ids)\n",
    "        self.release = release\n",
    "        self.duration = duration\n",
    "        self.deadline = deadline\n",
    "        self.start_min = release\n",
    "        self.start_max = deadline - duration\n",
    "        \n",
    "    def __eq__(self, other):\n",
    "        return self.deadline == other.deadline\n",
    "    \n",
    "    def __ne__(self, other):\n",
    "        return not (self.deadline == other.deadline)\n",
    "    \n",
    "    def __lt__(self, other):\n",
    "        return self.deadline < other.deadline\n",
    "    \n",
    "    def __repr__(self):\n",
    "        return f\"Task ID: {self._id}, release: {self.release}, duration: {self.duration}, deadline: {self.deadline}\"\n",
    "\n",
    "class cEDF:\n",
    "    def __init__(self, task_index: List, time):\n",
    "        self._index = task_index\n",
    "        self._time = time\n",
    "        self._crit_q = self._critical_queue()\n",
    "        self._red_q = self._ready_queue()\n",
    "        \n",
    "    def _critical_queue(self):\n",
    "        crit_q = sorted(self._index, key=lambda x: x.start_max, reverse=False)\n",
    "        return crit_q\n",
    "    \n",
    "    def _ready_queue(self):\n",
    "        temp_q = []\n",
    "        for item in self._index:\n",
    "            if item.release <= self._time:\n",
    "                temp_q.append(item)\n",
    "        red_q = sorted(temp_q, key=lambda x: x.deadline, reverse=False)\n",
    "        return red_q\n",
    "    \n",
    "    def _remove_task_id(self, task_id, queue):\n",
    "        for i, task in queue:\n",
    "            if task._id == task_id:\n",
    "                del queue[i]\n",
    "                break;\n",
    "    \n",
    "    def update_time(self, time):\n",
    "        self._time = time\n",
    "        self._red_q = self._ready_queue()\n",
    "        \n",
    "    def schedule(self):\n",
    "        return NotImplementedError()"
   ]
  },
  {
   "cell_type": "code",
   "execution_count": 65,
   "metadata": {},
   "outputs": [],
   "source": [
    "task_index = [Task(0, 5, 20), Task(2, 4, 10), Task(0, 3, 19)]"
   ]
  },
  {
   "cell_type": "code",
   "execution_count": 66,
   "metadata": {},
   "outputs": [],
   "source": [
    "sched = cEDF(task_index, 0)"
   ]
  },
  {
   "cell_type": "code",
   "execution_count": 67,
   "metadata": {},
   "outputs": [
    {
     "data": {
      "text/plain": [
       "[Task ID: 1, release: 2, duration: 4, deadline: 10,\n",
       " Task ID: 0, release: 0, duration: 5, deadline: 20,\n",
       " Task ID: 2, release: 0, duration: 3, deadline: 19]"
      ]
     },
     "execution_count": 67,
     "metadata": {},
     "output_type": "execute_result"
    }
   ],
   "source": [
    "sched._crit_q"
   ]
  },
  {
   "cell_type": "code",
   "execution_count": 68,
   "metadata": {},
   "outputs": [
    {
     "data": {
      "text/plain": [
       "[Task ID: 2, release: 0, duration: 3, deadline: 19,\n",
       " Task ID: 0, release: 0, duration: 5, deadline: 20]"
      ]
     },
     "execution_count": 68,
     "metadata": {},
     "output_type": "execute_result"
    }
   ],
   "source": [
    "sched._red_q"
   ]
  },
  {
   "cell_type": "code",
   "execution_count": 69,
   "metadata": {},
   "outputs": [],
   "source": [
    "sched.update_time(4)"
   ]
  },
  {
   "cell_type": "code",
   "execution_count": 70,
   "metadata": {},
   "outputs": [
    {
     "data": {
      "text/plain": [
       "[Task ID: 1, release: 2, duration: 4, deadline: 10,\n",
       " Task ID: 2, release: 0, duration: 3, deadline: 19,\n",
       " Task ID: 0, release: 0, duration: 5, deadline: 20]"
      ]
     },
     "execution_count": 70,
     "metadata": {},
     "output_type": "execute_result"
    }
   ],
   "source": [
    "sched._red_q"
   ]
  },
  {
   "cell_type": "code",
   "execution_count": null,
   "metadata": {},
   "outputs": [],
   "source": []
  }
 ],
 "metadata": {
  "kernelspec": {
   "display_name": "Python 3",
   "language": "python",
   "name": "python3"
  },
  "language_info": {
   "codemirror_mode": {
    "name": "ipython",
    "version": 3
   },
   "file_extension": ".py",
   "mimetype": "text/x-python",
   "name": "python",
   "nbconvert_exporter": "python",
   "pygments_lexer": "ipython3",
   "version": "3.7.7"
  }
 },
 "nbformat": 4,
 "nbformat_minor": 4
}
